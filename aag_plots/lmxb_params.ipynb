{
 "cells": [
  {
   "cell_type": "code",
   "execution_count": 1,
   "id": "cea8848d",
   "metadata": {},
   "outputs": [],
   "source": [
    "import pandas as pd\n",
    "import numpy as np\n",
    "\n",
    "from astropy.coordinates import SkyCoord\n",
    "import astropy.units as u\n",
    "\n",
    "import matplotlib.pyplot as plt\n",
    "import matplotlib.patches as patches\n",
    "\n",
    "def to_galactic(ra, dec):\n",
    "    coords = SkyCoord(ra*u.deg, dec*u.deg)\n",
    "    return coords.galactic.l.value, coords.galactic.b.value"
   ]
  },
  {
   "cell_type": "markdown",
   "id": "e0c8bf53",
   "metadata": {},
   "source": [
    "## LMXB data from Fortin et al., 2024\n",
    "https://ui.adsabs.harvard.edu/abs/2024A%26A...684A.124F/abstract"
   ]
  },
  {
   "cell_type": "code",
   "execution_count": 2,
   "id": "d69e60f4",
   "metadata": {},
   "outputs": [],
   "source": [
    "xrbs = pd.read_csv('data/fortin.csv')"
   ]
  },
  {
   "cell_type": "code",
   "execution_count": 3,
   "id": "155403f3",
   "metadata": {},
   "outputs": [
    {
     "data": {
      "text/html": [
       "<div>\n",
       "<style scoped>\n",
       "    .dataframe tbody tr th:only-of-type {\n",
       "        vertical-align: middle;\n",
       "    }\n",
       "\n",
       "    .dataframe tbody tr th {\n",
       "        vertical-align: top;\n",
       "    }\n",
       "\n",
       "    .dataframe thead th {\n",
       "        text-align: right;\n",
       "    }\n",
       "</style>\n",
       "<table border=\"1\" class=\"dataframe\">\n",
       "  <thead>\n",
       "    <tr style=\"text-align: right;\">\n",
       "      <th></th>\n",
       "      <th>Main_ID</th>\n",
       "      <th>RAdeg</th>\n",
       "      <th>DEdeg</th>\n",
       "      <th>PosErr</th>\n",
       "      <th>Pos_ref</th>\n",
       "      <th>Popular_ID</th>\n",
       "      <th>Status</th>\n",
       "      <th>Spectype</th>\n",
       "      <th>Spectype_ref</th>\n",
       "      <th>Spectype_flag</th>\n",
       "      <th>...</th>\n",
       "      <th>2MASS_ID</th>\n",
       "      <th>2MASS_RA</th>\n",
       "      <th>2MASS_Dec</th>\n",
       "      <th>2MASS_err</th>\n",
       "      <th>2MASS_ref</th>\n",
       "      <th>Gaia_ID</th>\n",
       "      <th>Gaia_RA</th>\n",
       "      <th>Gaia_Dec</th>\n",
       "      <th>Gaia_err</th>\n",
       "      <th>Gaia_ref</th>\n",
       "    </tr>\n",
       "  </thead>\n",
       "  <tbody>\n",
       "    <tr>\n",
       "      <th>0</th>\n",
       "      <td>CXOGlb J002353.9-720350</td>\n",
       "      <td>5.974900</td>\n",
       "      <td>-72.063900</td>\n",
       "      <td>0.000004</td>\n",
       "      <td>NaN</td>\n",
       "      <td>NGC 104 125</td>\n",
       "      <td>confirmed</td>\n",
       "      <td>NaN</td>\n",
       "      <td>NaN</td>\n",
       "      <td>NaN</td>\n",
       "      <td>...</td>\n",
       "      <td>NaN</td>\n",
       "      <td>NaN</td>\n",
       "      <td>NaN</td>\n",
       "      <td>NaN</td>\n",
       "      <td>NaN</td>\n",
       "      <td>0</td>\n",
       "      <td>NaN</td>\n",
       "      <td>NaN</td>\n",
       "      <td>NaN</td>\n",
       "      <td>NaN</td>\n",
       "    </tr>\n",
       "    <tr>\n",
       "      <th>1</th>\n",
       "      <td>CXOGlb J002400.9-720453</td>\n",
       "      <td>6.004129</td>\n",
       "      <td>-72.081445</td>\n",
       "      <td>0.000002</td>\n",
       "      <td>NaN</td>\n",
       "      <td>47 Tuc X-5</td>\n",
       "      <td>candidate</td>\n",
       "      <td>NaN</td>\n",
       "      <td>NaN</td>\n",
       "      <td>NaN</td>\n",
       "      <td>...</td>\n",
       "      <td>NaN</td>\n",
       "      <td>NaN</td>\n",
       "      <td>NaN</td>\n",
       "      <td>NaN</td>\n",
       "      <td>NaN</td>\n",
       "      <td>0</td>\n",
       "      <td>NaN</td>\n",
       "      <td>NaN</td>\n",
       "      <td>NaN</td>\n",
       "      <td>NaN</td>\n",
       "    </tr>\n",
       "    <tr>\n",
       "      <th>2</th>\n",
       "      <td>CXOGlb J002403.4-720451</td>\n",
       "      <td>6.014684</td>\n",
       "      <td>-72.081116</td>\n",
       "      <td>0.000197</td>\n",
       "      <td>NaN</td>\n",
       "      <td>47 Tuc X-7</td>\n",
       "      <td>candidate</td>\n",
       "      <td>NaN</td>\n",
       "      <td>NaN</td>\n",
       "      <td>NaN</td>\n",
       "      <td>...</td>\n",
       "      <td>NaN</td>\n",
       "      <td>NaN</td>\n",
       "      <td>NaN</td>\n",
       "      <td>NaN</td>\n",
       "      <td>NaN</td>\n",
       "      <td>0</td>\n",
       "      <td>NaN</td>\n",
       "      <td>NaN</td>\n",
       "      <td>NaN</td>\n",
       "      <td>NaN</td>\n",
       "    </tr>\n",
       "    <tr>\n",
       "      <th>3</th>\n",
       "      <td>47 Tuc X-9</td>\n",
       "      <td>6.017767</td>\n",
       "      <td>-72.082803</td>\n",
       "      <td>0.000028</td>\n",
       "      <td>NaN</td>\n",
       "      <td>47 Tuc X-9</td>\n",
       "      <td>confirmed</td>\n",
       "      <td>NaN</td>\n",
       "      <td>NaN</td>\n",
       "      <td>NaN</td>\n",
       "      <td>...</td>\n",
       "      <td>NaN</td>\n",
       "      <td>NaN</td>\n",
       "      <td>NaN</td>\n",
       "      <td>NaN</td>\n",
       "      <td>NaN</td>\n",
       "      <td>0</td>\n",
       "      <td>NaN</td>\n",
       "      <td>NaN</td>\n",
       "      <td>NaN</td>\n",
       "      <td>NaN</td>\n",
       "    </tr>\n",
       "    <tr>\n",
       "      <th>4</th>\n",
       "      <td>CXOGlb J002404.9-720451</td>\n",
       "      <td>6.020417</td>\n",
       "      <td>-72.080833</td>\n",
       "      <td>0.000167</td>\n",
       "      <td>NaN</td>\n",
       "      <td>NGC 104 37</td>\n",
       "      <td>confirmed</td>\n",
       "      <td>NaN</td>\n",
       "      <td>NaN</td>\n",
       "      <td>NaN</td>\n",
       "      <td>...</td>\n",
       "      <td>NaN</td>\n",
       "      <td>NaN</td>\n",
       "      <td>NaN</td>\n",
       "      <td>NaN</td>\n",
       "      <td>NaN</td>\n",
       "      <td>0</td>\n",
       "      <td>NaN</td>\n",
       "      <td>NaN</td>\n",
       "      <td>NaN</td>\n",
       "      <td>NaN</td>\n",
       "    </tr>\n",
       "  </tbody>\n",
       "</table>\n",
       "<p>5 rows × 130 columns</p>\n",
       "</div>"
      ],
      "text/plain": [
       "                   Main_ID     RAdeg      DEdeg    PosErr Pos_ref  \\\n",
       "0  CXOGlb J002353.9-720350  5.974900 -72.063900  0.000004     NaN   \n",
       "1  CXOGlb J002400.9-720453  6.004129 -72.081445  0.000002     NaN   \n",
       "2  CXOGlb J002403.4-720451  6.014684 -72.081116  0.000197     NaN   \n",
       "3               47 Tuc X-9  6.017767 -72.082803  0.000028     NaN   \n",
       "4  CXOGlb J002404.9-720451  6.020417 -72.080833  0.000167     NaN   \n",
       "\n",
       "    Popular_ID     Status Spectype Spectype_ref  Spectype_flag  ...  2MASS_ID  \\\n",
       "0  NGC 104 125  confirmed      NaN          NaN            NaN  ...       NaN   \n",
       "1   47 Tuc X-5  candidate      NaN          NaN            NaN  ...       NaN   \n",
       "2   47 Tuc X-7  candidate      NaN          NaN            NaN  ...       NaN   \n",
       "3   47 Tuc X-9  confirmed      NaN          NaN            NaN  ...       NaN   \n",
       "4   NGC 104 37  confirmed      NaN          NaN            NaN  ...       NaN   \n",
       "\n",
       "  2MASS_RA 2MASS_Dec  2MASS_err 2MASS_ref Gaia_ID  Gaia_RA  Gaia_Dec Gaia_err  \\\n",
       "0      NaN       NaN        NaN       NaN       0      NaN       NaN      NaN   \n",
       "1      NaN       NaN        NaN       NaN       0      NaN       NaN      NaN   \n",
       "2      NaN       NaN        NaN       NaN       0      NaN       NaN      NaN   \n",
       "3      NaN       NaN        NaN       NaN       0      NaN       NaN      NaN   \n",
       "4      NaN       NaN        NaN       NaN       0      NaN       NaN      NaN   \n",
       "\n",
       "   Gaia_ref  \n",
       "0       NaN  \n",
       "1       NaN  \n",
       "2       NaN  \n",
       "3       NaN  \n",
       "4       NaN  \n",
       "\n",
       "[5 rows x 130 columns]"
      ]
     },
     "execution_count": 3,
     "metadata": {},
     "output_type": "execute_result"
    }
   ],
   "source": [
    "xrbs.head()"
   ]
  },
  {
   "cell_type": "markdown",
   "id": "2c69d2ba",
   "metadata": {},
   "source": [
    "### Get data for gaia counterparts"
   ]
  },
  {
   "cell_type": "code",
   "execution_count": 4,
   "id": "723c08ba",
   "metadata": {},
   "outputs": [],
   "source": [
    "# gaia_ids = list(df['Gaia_ID'].value_counts().index)[1:]\n",
    "\n",
    "# from astroquery.gaia import Gaia\n",
    "\n",
    "# with open('data/gaia_ids.txt', 'w') as f:\n",
    "#     for g in gaia_ids:\n",
    "#         f.write(f'{g},\\n')\n",
    "\n",
    "# r = Gaia.launch_job(f\"select * from gaiadr3.gaia_source where source_id in {tuple(gaia_ids)}\")\n",
    "\n",
    "# r = r.get_results()\n",
    "\n",
    "# r.to_pandas().to_csv('data/gaia_matches.csv', index=False)"
   ]
  },
  {
   "cell_type": "code",
   "execution_count": 5,
   "id": "7c66457d",
   "metadata": {},
   "outputs": [],
   "source": [
    "gaia = pd.read_csv('data/gaia_matches.csv')"
   ]
  },
  {
   "cell_type": "code",
   "execution_count": 6,
   "id": "b996d16f",
   "metadata": {
    "scrolled": true
   },
   "outputs": [
    {
     "data": {
      "text/html": [
       "<div>\n",
       "<style scoped>\n",
       "    .dataframe tbody tr th:only-of-type {\n",
       "        vertical-align: middle;\n",
       "    }\n",
       "\n",
       "    .dataframe tbody tr th {\n",
       "        vertical-align: top;\n",
       "    }\n",
       "\n",
       "    .dataframe thead th {\n",
       "        text-align: right;\n",
       "    }\n",
       "</style>\n",
       "<table border=\"1\" class=\"dataframe\">\n",
       "  <thead>\n",
       "    <tr style=\"text-align: right;\">\n",
       "      <th></th>\n",
       "      <th>solution_id</th>\n",
       "      <th>DESIGNATION</th>\n",
       "      <th>SOURCE_ID</th>\n",
       "      <th>random_index</th>\n",
       "      <th>ref_epoch</th>\n",
       "      <th>ra</th>\n",
       "      <th>ra_error</th>\n",
       "      <th>dec</th>\n",
       "      <th>dec_error</th>\n",
       "      <th>parallax</th>\n",
       "      <th>...</th>\n",
       "      <th>azero_gspphot</th>\n",
       "      <th>azero_gspphot_lower</th>\n",
       "      <th>azero_gspphot_upper</th>\n",
       "      <th>ag_gspphot</th>\n",
       "      <th>ag_gspphot_lower</th>\n",
       "      <th>ag_gspphot_upper</th>\n",
       "      <th>ebpminrp_gspphot</th>\n",
       "      <th>ebpminrp_gspphot_lower</th>\n",
       "      <th>ebpminrp_gspphot_upper</th>\n",
       "      <th>libname_gspphot</th>\n",
       "    </tr>\n",
       "  </thead>\n",
       "  <tbody>\n",
       "    <tr>\n",
       "      <th>0</th>\n",
       "      <td>1636148068921376768</td>\n",
       "      <td>Gaia DR3 172650748928103552</td>\n",
       "      <td>172650748928103552</td>\n",
       "      <td>800309730</td>\n",
       "      <td>2016.0</td>\n",
       "      <td>65.428011</td>\n",
       "      <td>9.587519</td>\n",
       "      <td>32.907483</td>\n",
       "      <td>2.995200</td>\n",
       "      <td>NaN</td>\n",
       "      <td>...</td>\n",
       "      <td>NaN</td>\n",
       "      <td>NaN</td>\n",
       "      <td>NaN</td>\n",
       "      <td>NaN</td>\n",
       "      <td>NaN</td>\n",
       "      <td>NaN</td>\n",
       "      <td>NaN</td>\n",
       "      <td>NaN</td>\n",
       "      <td>NaN</td>\n",
       "      <td>NaN</td>\n",
       "    </tr>\n",
       "    <tr>\n",
       "      <th>1</th>\n",
       "      <td>1636148068921376768</td>\n",
       "      <td>Gaia DR3 789430249033567744</td>\n",
       "      <td>789430249033567744</td>\n",
       "      <td>1703071936</td>\n",
       "      <td>2016.0</td>\n",
       "      <td>169.544851</td>\n",
       "      <td>0.136973</td>\n",
       "      <td>48.036724</td>\n",
       "      <td>0.179136</td>\n",
       "      <td>0.160450</td>\n",
       "      <td>...</td>\n",
       "      <td>NaN</td>\n",
       "      <td>NaN</td>\n",
       "      <td>NaN</td>\n",
       "      <td>NaN</td>\n",
       "      <td>NaN</td>\n",
       "      <td>NaN</td>\n",
       "      <td>NaN</td>\n",
       "      <td>NaN</td>\n",
       "      <td>NaN</td>\n",
       "      <td>NaN</td>\n",
       "    </tr>\n",
       "    <tr>\n",
       "      <th>2</th>\n",
       "      <td>1636148068921376768</td>\n",
       "      <td>Gaia DR3 1315375795016730880</td>\n",
       "      <td>1315375795016730880</td>\n",
       "      <td>645203964</td>\n",
       "      <td>2016.0</td>\n",
       "      <td>241.441165</td>\n",
       "      <td>0.137478</td>\n",
       "      <td>25.862539</td>\n",
       "      <td>0.220611</td>\n",
       "      <td>0.402908</td>\n",
       "      <td>...</td>\n",
       "      <td>NaN</td>\n",
       "      <td>NaN</td>\n",
       "      <td>NaN</td>\n",
       "      <td>NaN</td>\n",
       "      <td>NaN</td>\n",
       "      <td>NaN</td>\n",
       "      <td>NaN</td>\n",
       "      <td>NaN</td>\n",
       "      <td>NaN</td>\n",
       "      <td>NaN</td>\n",
       "    </tr>\n",
       "    <tr>\n",
       "      <th>3</th>\n",
       "      <td>1636148068921376768</td>\n",
       "      <td>Gaia DR3 1328057940096806528</td>\n",
       "      <td>1328057940096806528</td>\n",
       "      <td>1245108754</td>\n",
       "      <td>2016.0</td>\n",
       "      <td>250.432139</td>\n",
       "      <td>0.058878</td>\n",
       "      <td>36.466382</td>\n",
       "      <td>0.080384</td>\n",
       "      <td>-0.093828</td>\n",
       "      <td>...</td>\n",
       "      <td>NaN</td>\n",
       "      <td>NaN</td>\n",
       "      <td>NaN</td>\n",
       "      <td>NaN</td>\n",
       "      <td>NaN</td>\n",
       "      <td>NaN</td>\n",
       "      <td>NaN</td>\n",
       "      <td>NaN</td>\n",
       "      <td>NaN</td>\n",
       "      <td>NaN</td>\n",
       "    </tr>\n",
       "    <tr>\n",
       "      <th>4</th>\n",
       "      <td>1636148068921376768</td>\n",
       "      <td>Gaia DR3 1338822021487330304</td>\n",
       "      <td>1338822021487330304</td>\n",
       "      <td>736627852</td>\n",
       "      <td>2016.0</td>\n",
       "      <td>254.457539</td>\n",
       "      <td>0.011060</td>\n",
       "      <td>35.342322</td>\n",
       "      <td>0.012822</td>\n",
       "      <td>0.115295</td>\n",
       "      <td>...</td>\n",
       "      <td>NaN</td>\n",
       "      <td>NaN</td>\n",
       "      <td>NaN</td>\n",
       "      <td>NaN</td>\n",
       "      <td>NaN</td>\n",
       "      <td>NaN</td>\n",
       "      <td>NaN</td>\n",
       "      <td>NaN</td>\n",
       "      <td>NaN</td>\n",
       "      <td>NaN</td>\n",
       "    </tr>\n",
       "  </tbody>\n",
       "</table>\n",
       "<p>5 rows × 152 columns</p>\n",
       "</div>"
      ],
      "text/plain": [
       "           solution_id                   DESIGNATION            SOURCE_ID  \\\n",
       "0  1636148068921376768   Gaia DR3 172650748928103552   172650748928103552   \n",
       "1  1636148068921376768   Gaia DR3 789430249033567744   789430249033567744   \n",
       "2  1636148068921376768  Gaia DR3 1315375795016730880  1315375795016730880   \n",
       "3  1636148068921376768  Gaia DR3 1328057940096806528  1328057940096806528   \n",
       "4  1636148068921376768  Gaia DR3 1338822021487330304  1338822021487330304   \n",
       "\n",
       "   random_index  ref_epoch          ra  ra_error        dec  dec_error  \\\n",
       "0     800309730     2016.0   65.428011  9.587519  32.907483   2.995200   \n",
       "1    1703071936     2016.0  169.544851  0.136973  48.036724   0.179136   \n",
       "2     645203964     2016.0  241.441165  0.137478  25.862539   0.220611   \n",
       "3    1245108754     2016.0  250.432139  0.058878  36.466382   0.080384   \n",
       "4     736627852     2016.0  254.457539  0.011060  35.342322   0.012822   \n",
       "\n",
       "   parallax  ...  azero_gspphot  azero_gspphot_lower  azero_gspphot_upper  \\\n",
       "0       NaN  ...            NaN                  NaN                  NaN   \n",
       "1  0.160450  ...            NaN                  NaN                  NaN   \n",
       "2  0.402908  ...            NaN                  NaN                  NaN   \n",
       "3 -0.093828  ...            NaN                  NaN                  NaN   \n",
       "4  0.115295  ...            NaN                  NaN                  NaN   \n",
       "\n",
       "   ag_gspphot  ag_gspphot_lower  ag_gspphot_upper  ebpminrp_gspphot  \\\n",
       "0         NaN               NaN               NaN               NaN   \n",
       "1         NaN               NaN               NaN               NaN   \n",
       "2         NaN               NaN               NaN               NaN   \n",
       "3         NaN               NaN               NaN               NaN   \n",
       "4         NaN               NaN               NaN               NaN   \n",
       "\n",
       "   ebpminrp_gspphot_lower  ebpminrp_gspphot_upper  libname_gspphot  \n",
       "0                     NaN                     NaN              NaN  \n",
       "1                     NaN                     NaN              NaN  \n",
       "2                     NaN                     NaN              NaN  \n",
       "3                     NaN                     NaN              NaN  \n",
       "4                     NaN                     NaN              NaN  \n",
       "\n",
       "[5 rows x 152 columns]"
      ]
     },
     "execution_count": 6,
     "metadata": {},
     "output_type": "execute_result"
    }
   ],
   "source": [
    "gaia.head()"
   ]
  },
  {
   "cell_type": "markdown",
   "id": "85466acd",
   "metadata": {},
   "source": [
    "#### Plot bp-rp of gaia lmxb counterparts"
   ]
  },
  {
   "cell_type": "code",
   "execution_count": 7,
   "id": "13c61139",
   "metadata": {},
   "outputs": [
    {
     "data": {
      "text/plain": [
       "<matplotlib.axes._subplots.AxesSubplot at 0x7fe31b75ff10>"
      ]
     },
     "execution_count": 7,
     "metadata": {},
     "output_type": "execute_result"
    },
    {
     "data": {
      "image/png": "[encoded data removed]",
      "text/plain": [
       "<Figure size 432x288 with 1 Axes>"
      ]
     },
     "metadata": {
      "needs_background": "light"
     },
     "output_type": "display_data"
    }
   ],
   "source": [
    "(gaia['phot_bp_mean_mag'] - gaia['phot_rp_mean_mag']).hist()"
   ]
  },
  {
   "cell_type": "markdown",
   "id": "19482b25",
   "metadata": {},
   "source": [
    "## Gaia CVs from Abril et al, 2020\n",
    "https://ui.adsabs.harvard.edu/abs/2020MNRAS.492L..40A/abstract"
   ]
  },
  {
   "cell_type": "code",
   "execution_count": 8,
   "id": "d889bb41",
   "metadata": {},
   "outputs": [],
   "source": [
    "from astroquery.vizier import Vizier"
   ]
  },
  {
   "cell_type": "code",
   "execution_count": 9,
   "id": "a113c4c5",
   "metadata": {},
   "outputs": [],
   "source": [
    "Vizier.ROW_LIMIT = -1\n",
    "v = Vizier.get_catalogs(\"J/MNRAS/492/L40\")"
   ]
  },
  {
   "cell_type": "code",
   "execution_count": 10,
   "id": "53da3af4",
   "metadata": {},
   "outputs": [],
   "source": [
    "cvs = v.values()[0].to_pandas()"
   ]
  },
  {
   "cell_type": "markdown",
   "id": "1b7965bb",
   "metadata": {},
   "source": [
    "#### plot CV bp-rp"
   ]
  },
  {
   "cell_type": "code",
   "execution_count": 11,
   "id": "39d1077a",
   "metadata": {},
   "outputs": [
    {
     "data": {
      "text/plain": [
       "<matplotlib.axes._subplots.AxesSubplot at 0x7fe31b19add0>"
      ]
     },
     "execution_count": 11,
     "metadata": {},
     "output_type": "execute_result"
    },
    {
     "data": {
      "image/png": "[encoded data removed]",
      "text/plain": [
       "<Figure size 432x288 with 1 Axes>"
      ]
     },
     "metadata": {
      "needs_background": "light"
     },
     "output_type": "display_data"
    }
   ],
   "source": [
    "(cvs['BPmag'] - cvs['RPmag']).hist()"
   ]
  },
  {
   "cell_type": "markdown",
   "id": "cfd14528",
   "metadata": {},
   "source": [
    "### Investigate galactic distribution of CVs abd LMXBs in latitude"
   ]
  },
  {
   "cell_type": "code",
   "execution_count": 12,
   "id": "7e081ac6",
   "metadata": {},
   "outputs": [],
   "source": [
    "xrbs['ldeg'], xrbs['bdeg'] = to_galactic(xrbs['RAdeg'].values, xrbs['DEdeg'].values)"
   ]
  },
  {
   "cell_type": "code",
   "execution_count": 13,
   "id": "87ec80f4",
   "metadata": {},
   "outputs": [
    {
     "data": {
      "text/plain": [
       "0.9262536873156342"
      ]
     },
     "execution_count": 13,
     "metadata": {},
     "output_type": "execute_result"
    }
   ],
   "source": [
    "sum(abs(xrbs['bdeg'] < 10)) / len(xrbs['bdeg'])"
   ]
  },
  {
   "cell_type": "code",
   "execution_count": 14,
   "id": "b0388cba",
   "metadata": {},
   "outputs": [],
   "source": [
    "cvs['ldeg'], cvs['bdeg'] = to_galactic(cvs['RAJ2000'].values, cvs['DEJ2000'].values)\n"
   ]
  },
  {
   "cell_type": "code",
   "execution_count": 15,
   "id": "2617576f",
   "metadata": {},
   "outputs": [
    {
     "data": {
      "text/plain": [
       "0.5818030050083473"
      ]
     },
     "execution_count": 15,
     "metadata": {},
     "output_type": "execute_result"
    }
   ],
   "source": [
    "sum(abs(cvs['bdeg'] < 10)) / len(cvs['bdeg'])"
   ]
  },
  {
   "cell_type": "markdown",
   "id": "f7639098",
   "metadata": {},
   "source": [
    "## Plot cuts in galactic latitude and bp - rp"
   ]
  },
  {
   "cell_type": "markdown",
   "id": "93b49c12",
   "metadata": {},
   "source": [
    "##### data munging..."
   ]
  },
  {
   "cell_type": "code",
   "execution_count": 16,
   "id": "913b9bea",
   "metadata": {},
   "outputs": [],
   "source": [
    "cvs['bprp'] = cvs['BPmag'] - cvs['RPmag']"
   ]
  },
  {
   "cell_type": "code",
   "execution_count": 17,
   "id": "cf7cad30",
   "metadata": {},
   "outputs": [],
   "source": [
    "gaia_xrbs = xrbs.loc[xrbs['Gaia_ID']!=0]"
   ]
  },
  {
   "cell_type": "code",
   "execution_count": 18,
   "id": "a6e6c78f",
   "metadata": {},
   "outputs": [],
   "source": [
    "gaia['Gaia_ID'] = gaia['DESIGNATION'].str.strip('Gaia DR3').astype(int)"
   ]
  },
  {
   "cell_type": "code",
   "execution_count": 19,
   "id": "942ff87d",
   "metadata": {},
   "outputs": [],
   "source": [
    "gaia = gaia.set_index('Gaia_ID')"
   ]
  },
  {
   "cell_type": "code",
   "execution_count": 20,
   "id": "444e8a61",
   "metadata": {},
   "outputs": [],
   "source": [
    "gaia_xrbs = gaia_xrbs.join(gaia, on='Gaia_ID')"
   ]
  },
  {
   "cell_type": "code",
   "execution_count": 21,
   "id": "75912763",
   "metadata": {},
   "outputs": [],
   "source": [
    "gaia_xrbs['bprp'] = (gaia_xrbs['phot_bp_mean_mag'] - gaia_xrbs['phot_rp_mean_mag'])"
   ]
  },
  {
   "cell_type": "markdown",
   "id": "7d998f9f",
   "metadata": {},
   "source": [
    "### Make scatterplots"
   ]
  },
  {
   "cell_type": "code",
   "execution_count": 22,
   "id": "25f3a8d1",
   "metadata": {},
   "outputs": [],
   "source": [
    "plt.rcParams['xtick.labelsize'] = 14\n",
    "plt.rcParams['ytick.labelsize'] = 14\n",
    "\n",
    "# Set tick size\n",
    "plt.rcParams['xtick.major.size'] = 8\n",
    "plt.rcParams['ytick.major.size'] = 8\n",
    "plt.rcParams['xtick.minor.size'] = 4\n",
    "plt.rcParams['ytick.minor.size'] = 4\n",
    "\n",
    "plt.rcParams['axes.labelsize'] = 14"
   ]
  },
  {
   "cell_type": "markdown",
   "id": "af611e90",
   "metadata": {},
   "source": [
    "# Define Cut"
   ]
  },
  {
   "cell_type": "code",
   "execution_count": 23,
   "id": "74220a72",
   "metadata": {},
   "outputs": [],
   "source": [
    "b_cut = 20 # within this many degrees of galactic equator\n",
    "bprp_cut = 1.5 # at least this red in bp-rp\n",
    "bprp_max = 7 # for plotting only"
   ]
  },
  {
   "cell_type": "code",
   "execution_count": 24,
   "id": "ce075b0e",
   "metadata": {},
   "outputs": [
    {
     "name": "stdout",
     "output_type": "stream",
     "text": [
      "full datasets\n",
      "number of lmxbs / total lmxbs: 1.000\n",
      "number of lmxbs / total lmxbs + cvs: 0.105\n",
      "\n",
      "after cuts\n",
      "number of lmxbs in sample / total lmxbs: 0.357\n",
      "number of lmxbs in sample / total lmxbs + cvs: 0.500\n"
     ]
    }
   ],
   "source": [
    "sub_xrbs = gaia_xrbs.query(f'(abs(b) < {b_cut}) and (bprp > {bprp_cut})')\n",
    "sub_cvs = cvs.query(f'(abs(bdeg) < {b_cut}) and (bprp > {bprp_cut})')\n",
    "\n",
    "n_obj = len(gaia_xrbs) + len(cvs)\n",
    "n_cvs = len(cvs)\n",
    "n_lmxbs = len(gaia_xrbs)\n",
    "n_cvs_cut = len(sub_cvs)\n",
    "n_lxmbs_cut = len(sub_xrbs)\n",
    "n_obj_cut = n_lxmbs_cut + n_cvs_cut\n",
    "\n",
    "\n",
    "n_cvs_cut\n",
    "\n",
    "## Full dataset\n",
    "print('full datasets')\n",
    "# LMXB Completeness \n",
    "print(f'number of lmxbs / total lmxbs: {n_lmxbs/n_lmxbs:0.3f}')\n",
    "\n",
    "# LMXB purity\n",
    "print(f'number of lmxbs / total lmxbs + cvs: {n_lmxbs/n_obj:0.3f}')\n",
    "\n",
    "## After cut\n",
    "print('\\nafter cuts')\n",
    "# LMXB Completeness \n",
    "print(f'number of lmxbs in sample / total lmxbs: {n_lxmbs_cut/n_lmxbs:0.3f}')\n",
    "\n",
    "# LMXB purity\n",
    "print(f'number of lmxbs in sample / total lmxbs + cvs: {n_lxmbs_cut/n_obj_cut:0.3f}')\n",
    "\n",
    "\n"
   ]
  },
  {
   "cell_type": "markdown",
   "id": "138800a2",
   "metadata": {},
   "source": [
    "### Just the scatterplot"
   ]
  },
  {
   "cell_type": "code",
   "execution_count": 25,
   "id": "d6bd5afd",
   "metadata": {},
   "outputs": [
    {
     "data": {
      "text/plain": [
       "Text(0.5, 1.0, 'Galactic CVs and LMXBs by Color and $b$')"
      ]
     },
     "execution_count": 25,
     "metadata": {},
     "output_type": "execute_result"
    },
    {
     "data": {
      "image/png": "[encoded data removed]",
      "text/plain": [
       "<Figure size 576x576 with 1 Axes>"
      ]
     },
     "metadata": {
      "needs_background": "light"
     },
     "output_type": "display_data"
    }
   ],
   "source": [
    "fig = plt.figure(figsize=(8, 8))\n",
    "ax = fig.add_subplot()\n",
    "ax.scatter(cvs['bprp'], cvs['bdeg'], label='CV', s=20)\n",
    "ax.scatter(gaia_xrbs['bprp'], gaia_xrbs['bdeg'], label='LMXB', s=30)\n",
    "ax.set_ylabel(r'Galactic Latitude ($b$) [$\\degree$]')\n",
    "ax.set_xlabel(r'Gaia $b_p - r_p$ [mag]')\n",
    "ax.set_xlim([-1, 7])\n",
    "\n",
    "# label with cut dimensions\n",
    "rect = patches.Rectangle((bprp_cut, -b_cut), bprp_max - bprp_cut, 2*b_cut, linewidth=2, edgecolor='r', facecolor='none', label=r'$abs(b) < {}\\degree$'.format(b_cut)+'\\n'+r'Gaia $b_p-r_p > {}$'.format(bprp_cut))\n",
    "\n",
    "# label without cut dimensions\n",
    "# rect = patches.Rectangle((bprp_cut, -b_cut), bprp_max - bprp_cut, 2*bprp_cut, linewidth=2, edgecolor='r', facecolor='none', label=r'proposed cut')\n",
    "\n",
    "ax.add_patch(rect)\n",
    "\n",
    "ax.legend(prop={'size': 12})\n",
    "plt.title(r'Galactic CVs and LMXBs by Color and $b$', fontsize=18)\n"
   ]
  },
  {
   "cell_type": "markdown",
   "id": "b4e0c7d9",
   "metadata": {},
   "source": [
    "### Plot with marginal distributions"
   ]
  },
  {
   "cell_type": "code",
   "execution_count": 26,
   "id": "cee6439f",
   "metadata": {},
   "outputs": [],
   "source": [
    "def scatter_hist(x, y, ax, ax_histx, ax_histy, label, dens=True, set_lims=True, set_lims2=False, s=1):\n",
    "    # no labels\n",
    "    ax_histx.tick_params(axis=\"x\", labelbottom=False)\n",
    "    ax_histy.tick_params(axis=\"y\", labelleft=False)\n",
    "    \n",
    "    xbins=10\n",
    "    ybins=10\n",
    "\n",
    "    # the scatter plot:\n",
    "    ax.scatter(x, y, s=s, label=label)\n",
    "    \n",
    "    if set_lims:\n",
    "        # plot 1 bin params\n",
    "        ybins = np.linspace(-40, 60, 20)\n",
    "        xbins = np.linspace(-1, 7, 15)\n",
    "        \n",
    "    if set_lims2:\n",
    "        # plot 2 bin params\n",
    "        ybins = np.linspace(-20, 20, 15)\n",
    "        xbins = np.linspace(1.75, 7, 15)        \n",
    "        \n",
    "    ax_histx.hist(x, bins=xbins, histtype='step', density=dens, linewidth=2)\n",
    "    ax_histy.hist(y, bins=ybins, orientation='horizontal', histtype='step', density=dens, linewidth=2)"
   ]
  },
  {
   "cell_type": "markdown",
   "id": "bf29448c",
   "metadata": {},
   "source": [
    "#### Plot 1"
   ]
  },
  {
   "cell_type": "code",
   "execution_count": 27,
   "id": "b3864d95",
   "metadata": {},
   "outputs": [
    {
     "data": {
      "text/plain": [
       "Text(0.5, 0.98, 'Galactic CVs and LMXBs by Color and b')"
      ]
     },
     "execution_count": 27,
     "metadata": {},
     "output_type": "execute_result"
    },
    {
     "data": {
      "image/png": "[encoded data removed]",
      "text/plain": [
       "<Figure size 576x576 with 3 Axes>"
      ]
     },
     "metadata": {
      "needs_background": "light"
     },
     "output_type": "display_data"
    }
   ],
   "source": [
    "fig = plt.figure(figsize=(8, 8))\n",
    "# Add a gridspec with two rows and two columns and a ratio of 1 to 4 between\n",
    "# the size of the marginal Axes and the main Axes in both directions.\n",
    "# Also adjust the subplot parameters for a square plot.\n",
    "gs = fig.add_gridspec(2, 2,  width_ratios=(4, 1), height_ratios=(1, 4),\n",
    "                      left=0.1, right=0.9, bottom=0.1, top=0.9,\n",
    "                      wspace=0.05, hspace=0.05)\n",
    "# Create the Axes.\n",
    "ax = fig.add_subplot(gs[1, 0])\n",
    "ax_histx = fig.add_subplot(gs[0, 0], sharex=ax)\n",
    "ax_histy = fig.add_subplot(gs[1, 1], sharey=ax)\n",
    "ax_histx.set_ylabel('density')\n",
    "ax_histy.set_xlabel('density')\n",
    "# Draw the scatter plot and marginals.\n",
    "scatter_hist(cvs['bprp'], cvs['bdeg'], ax, ax_histx, ax_histy, 'CV', s=20)\n",
    "scatter_hist(gaia_xrbs['bprp'], gaia_xrbs['bdeg'], ax, ax_histx, ax_histy, 'LMXB', s=20)\n",
    "ax.set_ylabel('galactic latitude [deg]')\n",
    "ax.set_xlabel('Gaia bp - rp [mag]')\n",
    "\n",
    "rect = patches.Rectangle((bprp_cut, -b_cut), bprp_max - bprp_cut, 2*b_cut, linewidth=2, edgecolor='r', facecolor='none', label=r'$abs(b) < {}\\degree$'.format(b_cut)+'\\n'+r'Gaia $b_p-r_p > {}$'.format(bprp_cut))\n",
    "ax.add_patch(rect)\n",
    "\n",
    "ax.legend(prop={'size': 10})\n",
    "\n",
    "plt.suptitle('Galactic CVs and LMXBs by Color and b', fontsize=18)\n"
   ]
  },
  {
   "cell_type": "markdown",
   "id": "981f1cdb",
   "metadata": {},
   "source": [
    "## make cut \n",
    "- galactic longitude within $20deg$ of 0\n",
    "- bp-rp greather than 1.5 (red)\n",
    "\n",
    "#### subset dfs and plot again, getting completeness and purity"
   ]
  },
  {
   "cell_type": "code",
   "execution_count": 28,
   "id": "e3d33f3f",
   "metadata": {
    "scrolled": false
   },
   "outputs": [
    {
     "data": {
      "text/plain": [
       "<matplotlib.legend.Legend at 0x7fe319519450>"
      ]
     },
     "execution_count": 28,
     "metadata": {},
     "output_type": "execute_result"
    },
    {
     "data": {
      "image/png": "[encoded data removed]",
      "text/plain": [
       "<Figure size 576x576 with 3 Axes>"
      ]
     },
     "metadata": {
      "needs_background": "light"
     },
     "output_type": "display_data"
    }
   ],
   "source": [
    "fig = plt.figure(figsize=(8, 8))\n",
    "# Add a gridspec with two rows and two columns and a ratio of 1 to 4 between\n",
    "# the size of the marginal Axes and the main Axes in both directions.\n",
    "# Also adjust the subplot parameters for a square plot.\n",
    "gs = fig.add_gridspec(2, 2,  width_ratios=(4, 1), height_ratios=(1, 4),\n",
    "                      left=0.1, right=0.9, bottom=0.1, top=0.9,\n",
    "                      wspace=0.05, hspace=0.05)\n",
    "# Create the Axes.\n",
    "ax = fig.add_subplot(gs[1, 0])\n",
    "ax_histx = fig.add_subplot(gs[0, 0], sharex=ax)\n",
    "ax_histy = fig.add_subplot(gs[1, 1], sharey=ax)\n",
    "ax_histx.set_ylabel('count')\n",
    "ax_histy.set_xlabel('count')\n",
    "# Draw the scatter plot and marginals.\n",
    "scatter_hist(sub_cvs['bprp'], sub_cvs['bdeg'], ax, ax_histx, ax_histy, 'CV', set_lims=False,set_lims2=True, s=50, dens=False)\n",
    "scatter_hist(sub_xrbs['bprp'], sub_xrbs['bdeg'], ax, ax_histx, ax_histy, 'LMXB', set_lims=False, set_lims2=True, s=50, dens=False)\n",
    "ax.set_ylabel('galactic latitude [deg]')\n",
    "ax.set_xlabel('Gaia bp - rp [mag]')\n",
    "ax.legend()\n"
   ]
  },
  {
   "cell_type": "code",
   "execution_count": null,
   "id": "a07c2412",
   "metadata": {},
   "outputs": [],
   "source": []
  }
 ],
 "metadata": {
  "kernelspec": {
   "display_name": "Python 3",
   "language": "python",
   "name": "python3"
  },
  "language_info": {
   "codemirror_mode": {
    "name": "ipython",
    "version": 3
   },
   "file_extension": ".py",
   "mimetype": "text/x-python",
   "name": "python",
   "nbconvert_exporter": "python",
   "pygments_lexer": "ipython3",
   "version": "3.7.6"
  }
 },
 "nbformat": 4,
 "nbformat_minor": 5
}
